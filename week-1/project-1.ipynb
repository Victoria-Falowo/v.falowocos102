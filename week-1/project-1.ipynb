{
 "cells": [
  {
   "cell_type": "code",
   "execution_count": 8,
   "id": "3c4c65c0-2d30-4ad6-bdf6-420e30959700",
   "metadata": {},
   "outputs": [
    {
     "name": "stdout",
     "output_type": "stream",
     "text": [
      "The simple interest is:\n",
      "63200.0\n",
      "The compound interest is:\n",
      "1.536741246219256e+61\n"
     ]
    }
   ],
   "source": [
    "# Simple Interest\n",
    "p=10000.0\n",
    "r = 76.0\n",
    "t = 7.0\n",
    "si = p*(1 + (r/100.0)*t)\n",
    "print(\"The simple interest is:\")\n",
    "print(si)\n",
    "\n",
    "#Compound Interest\n",
    "n = 8.0\n",
    "ci = p*((1 + (r/n))**(n * t))\n",
    "print(\"The compound interest is:\")\n",
    "print(ci)\n",
    "\n",
    "#Annuity Plan\n",
    "m = 40\n",
    "x = 6"
   ]
  }
 ],
 "metadata": {
  "kernelspec": {
   "display_name": "Python 3 (ipykernel)",
   "language": "python",
   "name": "python3"
  },
  "language_info": {
   "codemirror_mode": {
    "name": "ipython",
    "version": 3
   },
   "file_extension": ".py",
   "mimetype": "text/x-python",
   "name": "python",
   "nbconvert_exporter": "python",
   "pygments_lexer": "ipython3",
   "version": "3.11.7"
  }
 },
 "nbformat": 4,
 "nbformat_minor": 5
}
