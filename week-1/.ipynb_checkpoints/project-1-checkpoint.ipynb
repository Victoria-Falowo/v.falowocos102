{
 "cells": [
  {
   "cell_type": "code",
   "execution_count": 8,
   "id": "3c4c65c0-2d30-4ad6-bdf6-420e30959700",
   "metadata": {},
   "outputs": [
    {
     "name": "stdin",
     "output_type": "stream",
     "text": [
      "Input principle 3\n",
      "Input rate 2\n",
      "Input time 1\n"
     ]
    },
    {
     "name": "stdout",
     "output_type": "stream",
     "text": [
      "The simple interest is:\n",
      "3.06\n"
     ]
    }
   ],
   "source": [
    "# Simple Interest\n",
    "p= input(\"Input principle\")\n",
    "p = float(p)\n",
    "r = input(\"Input rate\")\n",
    "r = float(r)\n",
    "t = input(\"Input time\")\n",
    "t = float(t)\n",
    "f = 1 + (r/100)*t\n",
    "si = p * f\n",
    "print(\"The simple interest is:\")\n",
    "print(si)"
   ]
  },
  {
   "cell_type": "code",
   "execution_count": 11,
   "id": "2af383f7-1c72-419f-a777-cb5546d59402",
   "metadata": {},
   "outputs": [
    {
     "name": "stdin",
     "output_type": "stream",
     "text": [
      "Input principle 2\n",
      "Input rate 3\n",
      "Input time 1\n",
      "Input n 3\n"
     ]
    },
    {
     "name": "stdout",
     "output_type": "stream",
     "text": [
      "The compound interest is:\n",
      "16.0\n"
     ]
    }
   ],
   "source": [
    "#Compound Interest\n",
    "p= input(\"Input principle\")\n",
    "p = float(p)\n",
    "r = input(\"Input rate\")\n",
    "r = float(r)\n",
    "t = input(\"Input time\")\n",
    "t = float(t)\n",
    "n = input(\"Input n\")\n",
    "n = float(n)\n",
    "ci = p*((1 + (r/n))**(n * t))\n",
    "print(\"The compound interest is:\")\n",
    "print(ci)"
   ]
  },
  {
   "cell_type": "code",
   "execution_count": 15,
   "id": "1ca926d9-d3da-4593-b36a-c98f6f91b864",
   "metadata": {},
   "outputs": [
    {
     "name": "stdin",
     "output_type": "stream",
     "text": [
      "Input principle 2\n",
      "Input rate 2\n",
      "Input time 2\n",
      "Input n 2\n",
      "Input m 2\n"
     ]
    },
    {
     "name": "stdout",
     "output_type": "stream",
     "text": [
      "The annuity plan is:\n",
      "120.0\n"
     ]
    }
   ],
   "source": [
    "#Annuity Plan\n",
    "p= input(\"Input principle\")\n",
    "p = float(p)\n",
    "r = input(\"Input rate\")\n",
    "r = float(r)\n",
    "t = input(\"Input time\")\n",
    "t = float(t)\n",
    "n = input(\"Input n\")\n",
    "n = float(n)\n",
    "m = input(\"Input m\")\n",
    "m = float(m)\n",
    "ap = p*m*t*(((1 + r/n)**(n*t) - 1)/(r/n))\n",
    "print(\"The annuity plan is:\")\n",
    "print(ap)"
   ]
  }
 ],
 "metadata": {
  "kernelspec": {
   "display_name": "Python 3 (ipykernel)",
   "language": "python",
   "name": "python3"
  },
  "language_info": {
   "codemirror_mode": {
    "name": "ipython",
    "version": 3
   },
   "file_extension": ".py",
   "mimetype": "text/x-python",
   "name": "python",
   "nbconvert_exporter": "python",
   "pygments_lexer": "ipython3",
   "version": "3.11.7"
  }
 },
 "nbformat": 4,
 "nbformat_minor": 5
}
