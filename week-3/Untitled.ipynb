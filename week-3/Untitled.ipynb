{
 "cells": [
  {
   "cell_type": "code",
   "execution_count": 27,
   "id": "87a9e947-7676-4110-a4fb-3ee04bbd7424",
   "metadata": {},
   "outputs": [
    {
     "name": "stdin",
     "output_type": "stream",
     "text": [
      "What equation would you like to solve \n",
      "1. Quadratic \n",
      "2. Cubic \n",
      "3. Quartic 2\n",
      "Input a: 1\n",
      "Input b: 0\n",
      "Input c: -6\n",
      "Input d: -4\n"
     ]
    },
    {
     "name": "stdout",
     "output_type": "stream",
     "text": [
      "The solution is 2.0\n"
     ]
    }
   ],
   "source": [
    "import cmath #complex math module\n",
    "eq= input(\"What equation would you like to solve \\n1. Quadratic \\n2. Cubic \\n3. Quartic\")\n",
    "if eq == '1':\n",
    "    a = int(input(\"Input a:\"))\n",
    "    b = int(input(\"Input b:\"))\n",
    "    c = int(input(\"Input c:\"))\n",
    "    \n",
    "    #Calculate the discriminant\n",
    "    d = (b ** 2) - (4 * a * c)\n",
    "   \n",
    "    #Calculate the formula\n",
    "    solution1 = (-b + cmath.sqrt(d))/(2*a)\n",
    "    solution2 = (-b - cmath.sqrt(d))/(2*a)\n",
    "    print(f\"The solutions to the quadratic equation are {solution1} and {solution2}\")\n",
    "elif eq == '2':\n",
    "    a = int(input(\"Input a:\"))\n",
    "    b = int(input(\"Input b:\"))\n",
    "    c = int(input(\"Input c:\"))\n",
    "    d = int(input(\"Input d:\"))\n",
    "\n",
    "    f = (c/(3*a)) - ((b**2)/(9*(a**2)))\n",
    "    e = (-((b)**3)/(27 *( a**3))) + ((b*c)/(6 *(a**2))) - (d/(2*a))\n",
    "\n",
    "    solution = ((e - cmath.sqrt((e**2)+(f**3)))**(1/3) + (e + cmath.sqrt((e**2)+(f**3))**(1/3)) - (b/(3*a)))\n",
    "    print(f\"The solution is {e}\")\n",
    "else:\n",
    "    print(\"Sorry we don't have that equation yet\")"
   ]
  }
 ],
 "metadata": {
  "kernelspec": {
   "display_name": "Python 3 (ipykernel)",
   "language": "python",
   "name": "python3"
  },
  "language_info": {
   "codemirror_mode": {
    "name": "ipython",
    "version": 3
   },
   "file_extension": ".py",
   "mimetype": "text/x-python",
   "name": "python",
   "nbconvert_exporter": "python",
   "pygments_lexer": "ipython3",
   "version": "3.11.7"
  }
 },
 "nbformat": 4,
 "nbformat_minor": 5
}
