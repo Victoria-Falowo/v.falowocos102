{
 "cells": [
  {
   "cell_type": "code",
   "execution_count": 4,
   "id": "6227d6f3-1898-4c74-8f5b-1b388e306617",
   "metadata": {},
   "outputs": [
    {
     "name": "stdin",
     "output_type": "stream",
     "text": [
      "Input the first name tom\n",
      "How old are you? 24\n",
      "Input the first name barbra\n",
      "How old are you? 75\n"
     ]
    },
    {
     "name": "stdout",
     "output_type": "stream",
     "text": [
      "Your name is tom and you are 75 year(s) old\n",
      "Your name is barbra and you are 24 year(s) old\n"
     ]
    }
   ],
   "source": [
    "#Algorithm that swaps ages with names\n",
    "name1 = input(\"Input the first name\")\n",
    "age1 = input(\"How old are you?\")\n",
    "name2 = input(\"Input the first name\")\n",
    "age2 = input(\"How old are you?\")\n",
    "print(f\"Your name is {name1} and you are {age2} year(s) old\")\n",
    "print(f\"Your name is {name2} and you are {age1} year(s) old\")"
   ]
  }
 ],
 "metadata": {
  "kernelspec": {
   "display_name": "Python 3 (ipykernel)",
   "language": "python",
   "name": "python3"
  },
  "language_info": {
   "codemirror_mode": {
    "name": "ipython",
    "version": 3
   },
   "file_extension": ".py",
   "mimetype": "text/x-python",
   "name": "python",
   "nbconvert_exporter": "python",
   "pygments_lexer": "ipython3",
   "version": "3.11.7"
  }
 },
 "nbformat": 4,
 "nbformat_minor": 5
}
