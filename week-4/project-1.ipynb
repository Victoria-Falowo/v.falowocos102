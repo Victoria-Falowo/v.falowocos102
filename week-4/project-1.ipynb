{
 "cells": [
  {
   "cell_type": "code",
   "execution_count": 25,
   "id": "330620ce-fc80-48c7-9999-a78d45fc4861",
   "metadata": {},
   "outputs": [
    {
     "name": "stdout",
     "output_type": "stream",
     "text": [
      "| Name     | Age | Height | Score |\n",
      "| Everlyn  | 17  | 5.5    | 80    |\n",
      "| Jessica  | 16  | 6.0    | 85    |\n",
      "| Somto    | 17  | 5.4    | 70    |\n",
      "| Edith    | 18  | 5.9    | 60    |\n",
      "| Liza     | 16  | 5.6    | 76    |\n",
      "| Madonna  | 18  | 5.5    | 66    |\n",
      "| Waje     | 17  | 6.1    | 87    |\n",
      "| Tola     | 20  | 6.0    | 95    |\n",
      "| Aisha    | 19  | 5.7    | 50    |\n",
      "| Latifa   | 17  | 5.5    | 49    |\n",
      "| Chinedu  | 19  | 5.7    | 74    |\n",
      "| Liam     | 16  | 5.9    | 87    |\n",
      "| Wale     | 18  | 5.8    | 75    |\n",
      "| Gbenga   | 17  | 6.1    | 68    |\n",
      "| Abiola   | 20  | 5.9    | 66    |\n",
      "| Kola     | 19  | 5.5    | 78    |\n",
      "| Kunle    | 16  | 6.1    | 87    |\n",
      "| George   | 18  | 5.4    | 98    |\n",
      "| Thomas   | 17  | 5.8    | 54    |\n",
      "| Wesley   | 19  | 5.7    | 60    |\n"
     ]
    }
   ],
   "source": [
    "students = [[\"Everlyn\", 17, 5.5, 80],\n",
    "            [\"Jessica\", 16, 6.0, 85],\n",
    "            [\"Somto\", 17, 5.4, 70],\n",
    "            [\"Edith\", 18, 5.9, 60],\n",
    "            [\"Liza\", 16, 5.6, 76],\n",
    "            [\"Madonna\", 18, 5.5, 66],\n",
    "            [\"Waje\", 17, 6.1, 87],\n",
    "            [\"Tola\", 20, 6.0, 95],\n",
    "            [\"Aisha\", 19, 5.7, 50],\n",
    "            [\"Latifa\", 17, 5.5, 49],\n",
    "            [\"Chinedu\", 19, 5.7, 74],\n",
    "            [\"Liam\", 16, 5.9, 87],\n",
    "            [\"Wale\", 18, 5.8, 75],\n",
    "            [\"Gbenga\", 17, 6.1, 68],\n",
    "            [\"Abiola\", 20, 5.9, 66],\n",
    "            [\"Kola\", 19, 5.5, 78],\n",
    "            [\"Kunle\", 16, 6.1, 87],\n",
    "            [\"George\", 18, 5.4, 98],\n",
    "            [\"Thomas\", 17, 5.8, 54],\n",
    "            [\"Wesley\", 19, 5.7, 60],]\n",
    "\n",
    "print(\"| Name     | Age | Height | Score |\")\n",
    "\n",
    "for n in students:\n",
    "    print(\"|\",n[0], \" \" * (7-len(n[0])), \"|\",\n",
    "          n[1], \" \" * (2-len(str(n[1]))), \"|\",\n",
    "          n[2], \" \" * (5-len(str(n[2]))), \"|\",\n",
    "          n[3], \" \" * (4-len(str(n[3]))), \"|\",)"
   ]
  },
  {
   "cell_type": "code",
   "execution_count": 38,
   "id": "b501ee37-0454-4f68-a38f-7e099c2e5336",
   "metadata": {},
   "outputs": [
    {
     "name": "stdin",
     "output_type": "stream",
     "text": [
      "How old are you? 60\n",
      "How many years of experience do you have? 28\n"
     ]
    },
    {
     "name": "stdout",
     "output_type": "stream",
     "text": [
      "Your annual tax revenue is N5,600,000\n"
     ]
    }
   ],
   "source": [
    "age = int(input(\"How old are you?\"))\n",
    "exp = int(input(\"How many years of experience do you have?\"))\n",
    "\n",
    "if ((exp > 25) and (age >= 55)):\n",
    "    print(\"Your annual tax revenue is N5,600,000\")\n",
    "elif ((exp > 20) and (age >= 45)):\n",
    "    print(\"Your annual tax revenue is N4,480,000\")\n",
    "elif ((exp > 10) and ( age >= 35)):\n",
    "    print(\"Your annual tax revenue is N1,500,000\")\n",
    "elif ((exp < 10) and (age < 35)):\n",
    "    print(\"Your annual tax revenue is N550,000\")\n",
    "else:\n",
    "    print(\"Meet with the IT department if you get this issue\")"
   ]
  },
  {
   "cell_type": "code",
   "execution_count": null,
   "id": "123bfb24-c887-44f7-9a7b-65689a36ec1f",
   "metadata": {},
   "outputs": [],
   "source": []
  }
 ],
 "metadata": {
  "kernelspec": {
   "display_name": "Python 3 (ipykernel)",
   "language": "python",
   "name": "python3"
  },
  "language_info": {
   "codemirror_mode": {
    "name": "ipython",
    "version": 3
   },
   "file_extension": ".py",
   "mimetype": "text/x-python",
   "name": "python",
   "nbconvert_exporter": "python",
   "pygments_lexer": "ipython3",
   "version": "3.11.7"
  }
 },
 "nbformat": 4,
 "nbformat_minor": 5
}
