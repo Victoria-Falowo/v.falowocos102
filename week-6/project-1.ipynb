{
 "cells": [
  {
   "cell_type": "code",
   "execution_count": 14,
   "id": "b59819e5-8433-4152-87e4-29553435c229",
   "metadata": {},
   "outputs": [],
   "source": [
    "import tkinter as tk\n",
    "from tkinter import messagebox\n",
    "\n",
    "#Create button click function\n",
    "def submit():\n",
    "    weight = int(weight_entry.get())\n",
    "    location = location_entry.get()\n",
    "\n",
    "    if weight >= 10 and location == \"Ibeju-Lekki\":\n",
    "        messagebox.showinfo(\"Price\", \"Your package costs N5,000 \\n\")\n",
    "    elif weight < 10 and location == \"Ibeju-Lekki\":\n",
    "        messagebox.showinfo(\"Price\", \"Your package costs N3,500 \\n\")\n",
    "    elif weight >= 10 and location == \"Epe\":\n",
    "        messagebox.showinfo(\"Price\", \"Your package costs N10,000 \\n\")\n",
    "    elif weight < 10 and location == \"Epe\":\n",
    "         messagebox.showinfo(\"Price\", \"Your package costs N5,000 \\n\")\n",
    "    else:\n",
    "         messagebox.showinfo(\"Error\", \"Sorry, we don't deliver in that area yet. \\n\")\n",
    "\n",
    "#Create the main window\n",
    "root = tk.Tk()\n",
    "root.title(\"Simi Services\")\n",
    "root.geometry(\"500x500\")\n",
    "\n",
    "#Create label widget\n",
    "label = tk.Label(root, text=\"Welcome to Simi Services! \\n Please input the weight of your package and your location \\n\")\n",
    "label.pack()\n",
    "\n",
    "#Create weight label and entry\n",
    "weight_label = tk.Label(root, text=\"Weight (Number only):\")\n",
    "weight_label.pack()\n",
    "weight_entry = tk.Entry(root)\n",
    "weight_entry.pack()\n",
    "\n",
    "#Create the location label and entry\n",
    "location_label = tk.Label(root, text=\"Location:\")\n",
    "location_label.pack()\n",
    "location_entry = tk.Entry(root)\n",
    "location_entry.pack()\n",
    "\n",
    "#Add a buttom\n",
    "button= tk.Button(root, text=\"Submit\", command=submit)\n",
    "button.pack()\n",
    "\n",
    "#Run the main event loop\n",
    "root.mainloop()"
   ]
  },
  {
   "cell_type": "code",
   "execution_count": null,
   "id": "8f69b561-5991-4ee4-89e9-85475fe80014",
   "metadata": {},
   "outputs": [],
   "source": []
  }
 ],
 "metadata": {
  "kernelspec": {
   "display_name": "Python 3 (ipykernel)",
   "language": "python",
   "name": "python3"
  },
  "language_info": {
   "codemirror_mode": {
    "name": "ipython",
    "version": 3
   },
   "file_extension": ".py",
   "mimetype": "text/x-python",
   "name": "python",
   "nbconvert_exporter": "python",
   "pygments_lexer": "ipython3",
   "version": "3.11.7"
  }
 },
 "nbformat": 4,
 "nbformat_minor": 5
}
